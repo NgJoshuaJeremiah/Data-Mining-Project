{
 "cells": [
  {
   "cell_type": "code",
   "execution_count": 1,
   "metadata": {
    "id": "AI9h4D6UuqmO"
   },
   "outputs": [
    {
     "name": "stderr",
     "output_type": "stream",
     "text": [
      "In /home/aloy/.local/lib/python3.6/site-packages/matplotlib/mpl-data/stylelib/_classic_test.mplstyle: \n",
      "The text.latex.preview rcparam was deprecated in Matplotlib 3.3 and will be removed two minor releases later.\n",
      "In /home/aloy/.local/lib/python3.6/site-packages/matplotlib/mpl-data/stylelib/_classic_test.mplstyle: \n",
      "The mathtext.fallback_to_cm rcparam was deprecated in Matplotlib 3.3 and will be removed two minor releases later.\n",
      "In /home/aloy/.local/lib/python3.6/site-packages/matplotlib/mpl-data/stylelib/_classic_test.mplstyle: Support for setting the 'mathtext.fallback_to_cm' rcParam is deprecated since 3.3 and will be removed two minor releases later; use 'mathtext.fallback : 'cm' instead.\n",
      "In /home/aloy/.local/lib/python3.6/site-packages/matplotlib/mpl-data/stylelib/_classic_test.mplstyle: \n",
      "The validate_bool_maybe_none function was deprecated in Matplotlib 3.3 and will be removed two minor releases later.\n",
      "In /home/aloy/.local/lib/python3.6/site-packages/matplotlib/mpl-data/stylelib/_classic_test.mplstyle: \n",
      "The savefig.jpeg_quality rcparam was deprecated in Matplotlib 3.3 and will be removed two minor releases later.\n",
      "In /home/aloy/.local/lib/python3.6/site-packages/matplotlib/mpl-data/stylelib/_classic_test.mplstyle: \n",
      "The keymap.all_axes rcparam was deprecated in Matplotlib 3.3 and will be removed two minor releases later.\n",
      "In /home/aloy/.local/lib/python3.6/site-packages/matplotlib/mpl-data/stylelib/_classic_test.mplstyle: \n",
      "The animation.avconv_path rcparam was deprecated in Matplotlib 3.3 and will be removed two minor releases later.\n",
      "In /home/aloy/.local/lib/python3.6/site-packages/matplotlib/mpl-data/stylelib/_classic_test.mplstyle: \n",
      "The animation.avconv_args rcparam was deprecated in Matplotlib 3.3 and will be removed two minor releases later.\n"
     ]
    }
   ],
   "source": [
    "import pandas as pd\n",
    "import seaborn as sns\n",
    "import re\n",
    "\n",
    "train_path = './preprocessed_training_set/train_df.csv'\n",
    "test_path = './preprocessed_training_set/test_df.csv'"
   ]
  },
  {
   "cell_type": "code",
   "execution_count": 35,
   "metadata": {},
   "outputs": [],
   "source": [
    "test_df = pd.read_csv(test_path)\n",
    "train_df = pd.read_csv(train_path)\n",
    "train_df.shape"
   ]
  },
  {
   "cell_type": "code",
   "execution_count": 99,
   "metadata": {
    "colab": {
     "base_uri": "https://localhost:8080/",
     "height": 297
    },
    "id": "CKxDVXgBYzZk",
    "outputId": "ef7fda76-d54f-4acc-8594-73130d9efc31",
    "scrolled": true
   },
   "outputs": [
    {
     "data": {
      "text/plain": [
       "<matplotlib.axes._subplots.AxesSubplot at 0x7faaf85b6940>"
      ]
     },
     "execution_count": 99,
     "metadata": {
      "tags": []
     },
     "output_type": "execute_result"
    },
    {
     "data": {
      "image/png": "[encoded data removed]",
      "text/plain": [
       "<Figure size 432x288 with 1 Axes>"
      ]
     },
     "metadata": {
      "needs_background": "light",
      "tags": []
     },
     "output_type": "display_data"
    }
   ],
   "source": []
  },
  {
   "cell_type": "code",
   "execution_count": 57,
   "metadata": {
    "colab": {
     "base_uri": "https://localhost:8080/"
    },
    "id": "rCgbcq0SatRi",
    "outputId": "d6a15291-77dc-4eb1-9cd9-8f8e8a09d831"
   },
   "outputs": [
    {
     "data": {
      "text/plain": [
       "(6536, 563)"
      ]
     },
     "execution_count": 57,
     "metadata": {},
     "output_type": "execute_result"
    }
   ],
   "source": [
    "#Removing outliers using the interquartile range\n",
    "#Prepare training dataset\n",
    "train_df = pd.read_csv(train_path)\n",
    "new_df = train_df #copy dataframe for editing\n",
    "for cols in train_df.columns: #travers each feature column\n",
    "    Q3 = train_df[cols].quantile(0.75)\n",
    "    Q1 = train_df[cols].quantile(0.25)\n",
    "    outlier_factor = 20\n",
    "    IQR = Q3-Q1\n",
    "    upperlimit = Q3 + outlier_factor*(IQR)\n",
    "    lowerlimit = Q1 - outlier_factor*(IQR)\n",
    "    #remove rows that dont satisfy upper and lower limits\n",
    "    new_df = new_df[new_df[cols] > lowerlimit]\n",
    "    new_df = new_df[new_df[cols] < upperlimit]\n",
    "#save csv\n",
    "new_df.to_csv('./preprocessed_training_set/train_df_O.csv',index=False)"
   ]
  },
  {
   "cell_type": "code",
   "execution_count": 58,
   "metadata": {
    "id": "SnAMA1zReVwY"
   },
   "outputs": [],
   "source": []
  },
  {
   "cell_type": "code",
   "execution_count": 78,
   "metadata": {
    "colab": {
     "base_uri": "https://localhost:8080/"
    },
    "id": "1e44bhX7wy0_",
    "outputId": "136806e5-7319-4456-e213-b7c172b58771"
   },
   "outputs": [],
   "source": [
    "#Balance the dataset using SMOTE\n",
    "from scipy.io import arff #To read weka saved files\n",
    "#Prepare training dataset\n",
    "path = './preprocessed_training_set/train_df_O_T.csv.arff'\n",
    "data = arff.loadarff(path)\n",
    "df = pd.DataFrame(data[0])\n",
    "\n",
    "int(df['LABELS'][0].decode(\"utf-8\")) #labels are saved in bytes, convert to int\n",
    "df['LABELS'] = df['LABELS'].apply(lambda x : int(x.decode(\"utf-8\")) )\n",
    "columns = df.drop('LABELS',axis=1).columns\n",
    "\n",
    "#Applying SMOTE\n",
    "from imblearn.over_sampling import SMOTE\n",
    "oversample = SMOTE()\n",
    "X,y = oversample.fit_resample(df.drop('LABELS',axis=1),df['LABELS'])\n",
    "new_df = pd.DataFrame(X,columns=columns)\n",
    "new_label = pd.DataFrame(y,columns=['LABELS'])\n",
    "new_df = pd.concat([new_df,new_label],axis=1) \n",
    "#save csv\n",
    "new_df.to_csv('./preprocessed_training_set/train_df_O_T_Smote.csv',index=False)"
   ]
  },
  {
   "cell_type": "code",
   "execution_count": 83,
   "metadata": {
    "id": "_1HwdjKBy-IS"
   },
   "outputs": [],
   "source": []
  },
  {
   "cell_type": "code",
   "execution_count": 117,
   "metadata": {},
   "outputs": [],
   "source": [
    "#Prepare train and test datasets\n",
    "from scipy.io import arff #library to read weka files\n",
    "\n",
    "#Read in preprocessed training dataset (without PCA)\n",
    "train_df = pd.read_csv('./preprocessed_training_set/train_df_O_T_Smote.csv')\n",
    "\n",
    "#Read in preprocessed testing dataset (without PCA)\n",
    "path = './preprocessed_training_set/test_df_log.csv.arff'\n",
    "data = arff.loadarff(path)\n",
    "test_df = pd.DataFrame(data[0])\n",
    "test_df['LABELS'] = test_df['LABELS'].apply(lambda x : int(x.decode(\"utf-8\")) )\n",
    "\n",
    "#PCA process\n",
    "from sklearn.decomposition import PCA\n",
    "pca = PCA(n_components='mle') #search for optimal components using minka's MLE\n",
    "\n",
    "x = train_df.drop(['LABELS'],axis=1) #train features\n",
    "y = train_df['LABELS'] #train label\n",
    "pca.fit(x)\n",
    "new_x = pca.transform(x)\n",
    "\n",
    "#rename principal components\n",
    "new_feature_col = ['PCA_feature_{}'.format(i) for i in range(new_x.shape[1])]\n",
    "new_x = pd.DataFrame(new_x,columns=new_feature_col)\n",
    "trnew_df = pd.concat([new_x,y],axis=1) #combine the new component features and labels\n",
    "#Save csv\n",
    "trnew_df.to_csv('./preprocessed_training_set/train_df_O_T_Smote_PCA.csv',index=False)\n",
    "\n",
    "x = test_df.drop(['LABELS'],axis=1) #test features\n",
    "y = test_df['LABELS'] #test label\n",
    "new_x = pca.transform(x)\n",
    "\n",
    "#rename principal components\n",
    "new_feature_col = ['PCA_feature_{}'.format(i) for i in range(new_x.shape[1])]\n",
    "new_x = pd.DataFrame(new_x,columns=new_feature_col)\n",
    "new_df = pd.concat([new_x,y],axis=1) #combine the new component features and labels\n",
    "#Save csv\n",
    "new_df.to_csv('./preprocessed_training_set/test_df_log_PCA.csv',index=False)\n",
    "\n",
    "\n"
   ]
  }
 ],
 "metadata": {
  "colab": {
   "collapsed_sections": [],
   "name": "Preprocessingggg_latest",
   "provenance": []
  },
  "kernelspec": {
   "display_name": "Python 3",
   "language": "python",
   "name": "python3"
  },
  "language_info": {
   "codemirror_mode": {
    "name": "ipython",
    "version": 3
   },
   "file_extension": ".py",
   "mimetype": "text/x-python",
   "name": "python",
   "nbconvert_exporter": "python",
   "pygments_lexer": "ipython3",
   "version": "3.6.9"
  }
 },
 "nbformat": 4,
 "nbformat_minor": 1
}
